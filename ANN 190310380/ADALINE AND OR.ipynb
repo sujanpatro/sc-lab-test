{
 "cells": [
  {
   "cell_type": "code",
   "execution_count": 1,
   "metadata": {},
   "outputs": [],
   "source": [
    "x1 = [-1, -1, 1, 1]\n",
    "x2 = [-1, 1, -1, 1]"
   ]
  },
  {
   "cell_type": "code",
   "execution_count": 2,
   "metadata": {},
   "outputs": [
    {
     "name": "stdout",
     "output_type": "stream",
     "text": [
      "w1= 0.4  w2= 0.4  b= 0.2  no. of epochs= 2\n"
     ]
    }
   ],
   "source": [
    "t = [-1, 1, 1, 1]\n",
    "\n",
    "w1 = w2 = b = 0\n",
    "\n",
    "alpha = 0.2\n",
    "\n",
    "counter = 0\n",
    "epoch = 0\n",
    "while counter < 4:\n",
    "    epoch += 1\n",
    "    counter = 0\n",
    "    for i in range(4):\n",
    "        I = (x1[i]*w1)+(x2[i]*w2)+b\n",
    "        y = 1 if I>=0 else -1\n",
    "        if y == t[i]:\n",
    "            counter += 1\n",
    "        else:\n",
    "            dw1 = alpha * (t[i]-y) * x1[i]\n",
    "            dw2 = alpha * (t[i]-y) * x2[i]\n",
    "            w1 += dw1\n",
    "            w2 += dw2\n",
    "            b += alpha\n",
    "\n",
    "print(\"w1=\",w1,\" w2=\",w2,\" b=\",b,\" no. of epochs=\",epoch)"
   ]
  },
  {
   "cell_type": "code",
   "execution_count": null,
   "metadata": {},
   "outputs": [],
   "source": [
    "t = [-1, -1, -1, 1]\n",
    "\n",
    "w1 = w2 = b = 0\n",
    "\n",
    "alpha = 0.2\n",
    "\n",
    "counter = 0\n",
    "epoch = 0\n",
    "while counter < 4:\n",
    "    epoch += 1\n",
    "    counter = 0\n",
    "    for i in range(4):\n",
    "        I = (x1[i]*w1)+(x2[i]*w2)+b\n",
    "        y = 1 if I>=0 else -1\n",
    "        if y == t[i]:\n",
    "            counter += 1\n",
    "        else:\n",
    "            dw1 = alpha * (t[i]-y) * x1[i]\n",
    "            dw2 = alpha * (t[i]-y) * x2[i]\n",
    "            w1 += dw1\n",
    "            w2 += dw2\n",
    "            b += alpha\n",
    "\n",
    "print(\"w1=\",w1,\" w2=\",w2,\" b=\",b,\" no. of epochs=\",epoch)"
   ]
  }
 ],
 "metadata": {
  "kernelspec": {
   "display_name": "Python 3",
   "language": "python",
   "name": "python3"
  },
  "language_info": {
   "codemirror_mode": {
    "name": "ipython",
    "version": 3
   },
   "file_extension": ".py",
   "mimetype": "text/x-python",
   "name": "python",
   "nbconvert_exporter": "python",
   "pygments_lexer": "ipython3",
   "version": "3.7.3"
  }
 },
 "nbformat": 4,
 "nbformat_minor": 2
}
