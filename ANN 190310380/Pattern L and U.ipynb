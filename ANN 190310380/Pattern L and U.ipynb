{
 "cells": [
  {
   "cell_type": "code",
   "execution_count": 3,
   "metadata": {},
   "outputs": [],
   "source": [
    "P = [[1,1,1,-1,1,-1,1,1,1],[1,1,1,1,1,1,1,-1,-1]]"
   ]
  },
  {
   "cell_type": "code",
   "execution_count": 6,
   "metadata": {},
   "outputs": [
    {
     "name": "stdout",
     "output_type": "stream",
     "text": [
      "w= [0, 0, 0, -2, 0, -2, 0, 2, 2]  b= 2  no. of epochs= 2\n"
     ]
    }
   ],
   "source": [
    "t = [1,-1]\n",
    "w = [0,0,0,0,0,0,0,0,0]\n",
    "b= 0\n",
    "\n",
    "alpha = 1\n",
    "\n",
    "counter = 0\n",
    "epoch = 0\n",
    "\n",
    "while  counter<2:\n",
    "    epoch += 1\n",
    "    counter = 0\n",
    "    for i in range(2):\n",
    "        I = b\n",
    "        x = P[i]\n",
    "        for j in range(9):\n",
    "            I += x[j]*w[j]\n",
    "        y = 1 if I>0 else -1\n",
    "        if y == t[i]:\n",
    "            counter += 1\n",
    "        elif y>t[i]:\n",
    "            for j in range(9):\n",
    "                dw = alpha * x[j]\n",
    "                w[j] -= dw\n",
    "            b += alpha\n",
    "        else:\n",
    "            for j in range(9):\n",
    "                dw = alpha * x[j]\n",
    "                w[j] += dw\n",
    "            b += alpha\n",
    "\n",
    "print(\"w=\",w,\" b=\",b,\" no. of epochs=\",epoch)"
   ]
  },
  {
   "cell_type": "code",
   "execution_count": null,
   "metadata": {},
   "outputs": [],
   "source": []
  }
 ],
 "metadata": {
  "kernelspec": {
   "display_name": "Python 3",
   "language": "python",
   "name": "python3"
  },
  "language_info": {
   "codemirror_mode": {
    "name": "ipython",
    "version": 3
   },
   "file_extension": ".py",
   "mimetype": "text/x-python",
   "name": "python",
   "nbconvert_exporter": "python",
   "pygments_lexer": "ipython3",
   "version": "3.7.3"
  }
 },
 "nbformat": 4,
 "nbformat_minor": 2
}
