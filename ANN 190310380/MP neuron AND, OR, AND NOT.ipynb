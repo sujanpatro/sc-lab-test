{
 "cells": [
  {
   "cell_type": "code",
   "execution_count": 1,
   "metadata": {},
   "outputs": [],
   "source": [
    "x1 = [0, 0, 1, 1]\n",
    "x2 = [0, 1, 0, 1]"
   ]
  },
  {
   "cell_type": "markdown",
   "metadata": {},
   "source": [
    "## AND"
   ]
  },
  {
   "cell_type": "code",
   "execution_count": 6,
   "metadata": {},
   "outputs": [
    {
     "name": "stdout",
     "output_type": "stream",
     "text": [
      "x1  x2  T\n",
      "0   0   0\n",
      "0   1   0\n",
      "1   0   0\n",
      "1   1   1\n"
     ]
    }
   ],
   "source": [
    "w1 = 0.25\n",
    "w2 = 0.25\n",
    "k = 0.45\n",
    "\n",
    "print('x1  x2  T')\n",
    "for i in range(4):\n",
    "    I = (x1[i]*w1)+(x2[i]*w2)\n",
    "    if I > k:\n",
    "        T = 1\n",
    "    else:\n",
    "        T = 0\n",
    "    print(x1[i],\" \",x2[i],\" \",T)"
   ]
  },
  {
   "cell_type": "markdown",
   "metadata": {},
   "source": [
    "# OR"
   ]
  },
  {
   "cell_type": "code",
   "execution_count": 7,
   "metadata": {},
   "outputs": [
    {
     "name": "stdout",
     "output_type": "stream",
     "text": [
      "x1  x2  T\n",
      "0   0   0\n",
      "0   1   1\n",
      "1   0   1\n",
      "1   1   1\n"
     ]
    }
   ],
   "source": [
    "w1 = 0.25\n",
    "w2 = 0.25\n",
    "k = 0.15\n",
    "\n",
    "print('x1  x2  T')\n",
    "for i in range(4):\n",
    "    I = (x1[i]*w1)+(x2[i]*w2)\n",
    "    if I > k:\n",
    "        T = 1\n",
    "    else:\n",
    "        T = 0\n",
    "    print(x1[i],\" \",x2[i],\" \",T)"
   ]
  },
  {
   "cell_type": "markdown",
   "metadata": {},
   "source": [
    "# AND NOT"
   ]
  },
  {
   "cell_type": "code",
   "execution_count": 8,
   "metadata": {},
   "outputs": [
    {
     "name": "stdout",
     "output_type": "stream",
     "text": [
      "x1  x2  T\n",
      "0   0   0\n",
      "0   1   0\n",
      "1   0   1\n",
      "1   1   1\n"
     ]
    }
   ],
   "source": [
    "w1 = 0.25\n",
    "w2 = 0\n",
    "k = 0.15\n",
    "\n",
    "print('x1  x2  T')\n",
    "for i in range(4):\n",
    "    I = (x1[i]*w1)+(x2[i]*w2)\n",
    "    if I > k:\n",
    "        T = 1\n",
    "    else:\n",
    "        T = 0\n",
    "    print(x1[i],\" \",x2[i],\" \",T)"
   ]
  }
 ],
 "metadata": {
  "kernelspec": {
   "display_name": "Python 3",
   "language": "python",
   "name": "python3"
  },
  "language_info": {
   "codemirror_mode": {
    "name": "ipython",
    "version": 3
   },
   "file_extension": ".py",
   "mimetype": "text/x-python",
   "name": "python",
   "nbconvert_exporter": "python",
   "pygments_lexer": "ipython3",
   "version": "3.7.3"
  }
 },
 "nbformat": 4,
 "nbformat_minor": 2
}
