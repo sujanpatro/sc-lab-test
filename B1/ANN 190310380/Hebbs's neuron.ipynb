{
 "cells": [
  {
   "cell_type": "code",
   "execution_count": 10,
   "metadata": {},
   "outputs": [],
   "source": [
    "x1 = [0, 0, 1, 1]\n",
    "x2 = [0, 1, 0, 1]"
   ]
  },
  {
   "cell_type": "markdown",
   "metadata": {},
   "source": [
    "# AND"
   ]
  },
  {
   "cell_type": "code",
   "execution_count": 11,
   "metadata": {},
   "outputs": [
    {
     "name": "stdout",
     "output_type": "stream",
     "text": [
      "w1= 0.4  w2= 0.4  no. of epochs= 3\n"
     ]
    }
   ],
   "source": [
    "t = [0, 0, 0, 1]\n",
    "w1 = 0\n",
    "w2 = 0\n",
    "theta = 0.4\n",
    "\n",
    "n = 0.2\n",
    "\n",
    "counter = 0\n",
    "epoch = 0\n",
    "while counter < 4:\n",
    "    epoch += 1\n",
    "    counter = 0\n",
    "    for i in range(4):\n",
    "        I = (x1[i]*w1)+(x2[i]*w2)\n",
    "        y = 1 if I>theta else 0\n",
    "        if y == t[i]:\n",
    "            counter += 1\n",
    "        else:\n",
    "            dw1 = n * x1[i] * t[i]\n",
    "            dw2 = n * x2[i] * t[i]\n",
    "            w1 += dw1\n",
    "            w2 += dw2\n",
    "\n",
    "print(\"w1=\",w1,\" w2=\",w2,\" no. of epochs=\",epoch)"
   ]
  },
  {
   "cell_type": "markdown",
   "metadata": {},
   "source": [
    "# OR"
   ]
  },
  {
   "cell_type": "code",
   "execution_count": 14,
   "metadata": {},
   "outputs": [
    {
     "name": "stdout",
     "output_type": "stream",
     "text": [
      "w1= 0.5  w2= 0.5  no. of epochs= 5\n"
     ]
    }
   ],
   "source": [
    "t = [0, 1, 1, 1]\n",
    "w1 = 0\n",
    "w2 = 0\n",
    "theta = 0.4\n",
    "\n",
    "n = 0.1\n",
    "\n",
    "counter = 0\n",
    "epoch = 0\n",
    "while counter < 4:\n",
    "    epoch += 1\n",
    "    counter = 0\n",
    "    for i in range(4):\n",
    "        I = (x1[i]*w1)+(x2[i]*w2)\n",
    "        y = 1 if I>theta else 0\n",
    "        if y == t[i]:\n",
    "            counter += 1\n",
    "        else:\n",
    "            dw1 = n * x1[i] * t[i]\n",
    "            dw2 = n * x2[i] * t[i]\n",
    "            w1 += dw1\n",
    "            w2 += dw2\n",
    "\n",
    "print(\"w1=\",w1,\" w2=\",w2,\" no. of epochs=\",epoch)"
   ]
  }
 ],
 "metadata": {
  "kernelspec": {
   "display_name": "Python 3",
   "language": "python",
   "name": "python3"
  },
  "language_info": {
   "codemirror_mode": {
    "name": "ipython",
    "version": 3
   },
   "file_extension": ".py",
   "mimetype": "text/x-python",
   "name": "python",
   "nbconvert_exporter": "python",
   "pygments_lexer": "ipython3",
   "version": "3.7.3"
  }
 },
 "nbformat": 4,
 "nbformat_minor": 2
}
