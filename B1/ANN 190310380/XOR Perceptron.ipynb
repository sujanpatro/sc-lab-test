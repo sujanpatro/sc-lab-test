{
 "cells": [
  {
   "cell_type": "code",
   "execution_count": 1,
   "metadata": {},
   "outputs": [],
   "source": [
    "x1 = [0, 0, 1, 1]\n",
    "x2 = [0, 1, 0, 1]"
   ]
  },
  {
   "cell_type": "code",
   "execution_count": 9,
   "metadata": {},
   "outputs": [
    {
     "name": "stdout",
     "output_type": "stream",
     "text": [
      "w1= 2  w2= -2  w3= -2  w4= 2  v1= 1  v2= 1  no. of epochs= 3\n"
     ]
    }
   ],
   "source": [
    "t = [0,1,1,0]\n",
    "w1 = 0\n",
    "w2 = 0\n",
    "w3 = 0\n",
    "w4 = 0\n",
    "\n",
    "v1 = 0\n",
    "v2 = 0\n",
    "\n",
    "alpha = 1\n",
    "\n",
    "counter = 0\n",
    "epoch = 0\n",
    "\n",
    "while counter<4:\n",
    "    epoch += 1\n",
    "    counter = 0\n",
    "    for i in range(4):\n",
    "        p1 = x1[i]*w1 + x2[i]*w3\n",
    "        p2 = x1[i]*w2 + x2[i]*w4\n",
    "        \n",
    "        p1 = 1 if p1>0 else 0\n",
    "        p2 = 1 if p2>0 else 0\n",
    "        \n",
    "        I = p1*v1 + p2*v2\n",
    "        \n",
    "        y = 1 if I>0 else 0\n",
    "        \n",
    "        if y==t[i]:\n",
    "            counter += 1\n",
    "        elif y<t[i]:\n",
    "            w1 += alpha*x1[i]\n",
    "            w2 -= alpha*x1[i]\n",
    "            w3 -= alpha*x2[i]\n",
    "            w4 += alpha*x2[i]\n",
    "            v1 += alpha*p1\n",
    "            v2 += alpha*p2\n",
    "        else:\n",
    "            w1 -= alpha*x1[i]\n",
    "            w2 += alpha*x1[i]\n",
    "            w3 += alpha*x2[i]\n",
    "            w4 -= alpha*x2[i]\n",
    "            v1 -= alpha*p1\n",
    "            v2 -= alpha*p2\n",
    "            \n",
    "print(\"w1=\",w1,\" w2=\",w2,\" w3=\",w3,\" w4=\",w4,\" v1=\",v1,\" v2=\",v2,\" no. of epochs=\",epoch)"
   ]
  }
 ],
 "metadata": {
  "kernelspec": {
   "display_name": "Python 3",
   "language": "python",
   "name": "python3"
  },
  "language_info": {
   "codemirror_mode": {
    "name": "ipython",
    "version": 3
   },
   "file_extension": ".py",
   "mimetype": "text/x-python",
   "name": "python",
   "nbconvert_exporter": "python",
   "pygments_lexer": "ipython3",
   "version": "3.7.3"
  }
 },
 "nbformat": 4,
 "nbformat_minor": 2
}
